{
  "cells": [
    {
      "cell_type": "markdown",
      "metadata": {
        "id": "view-in-github",
        "colab_type": "text"
      },
      "source": [
        "<a href=\"https://colab.research.google.com/github/AyushmaanAggarwal/Estimating-Edge-Effects-on-Parallel-Plate-Capacitor/blob/main/Estimate_Edge_Effects.ipynb\" target=\"_parent\"><img src=\"https://colab.research.google.com/assets/colab-badge.svg\" alt=\"Open In Colab\"/></a>"
      ]
    },
    {
      "cell_type": "markdown",
      "source": [
        "**Welcome to the Edge Effects Model where you can get an approximate charge distribution on a square parallel plate capacitor.**\n",
        "\n",
        "All you need to do is change the parameters using the sliders and number values and then press CTRL+F9(or Runtime -> Run All) in order to run all the code blocks and view the results at the bottom of the page.\n",
        "\n",
        "The results will show the predicted capacitance, total time to run, and 2 color maps: \n",
        "- the first colormap is before trainning using a uniform charge density with the respective voltage drops across the plate\n",
        "- the second colormap is after trainning showing the final charge distribution on the right and the respective voltage drops after training.\n",
        "\n",
        "The voltage drops will not be exactly uniform after trainning because there is diminishing returns on running the program for longer to obtain a more uniform charge distribution, but note how the scale of the voltage drops decreases from before to after training by a sigificant amount.\n",
        "\n",
        "If it takes too long to run, you can increase the percent of std to change the threshold which is considered an aceptable standard deviation of voltage drops across the plate.\n",
        "\n",
        "\n",
        "If needed the charge distribution can be exported by looking at the cd.charge_dis array of values"
      ],
      "metadata": {
        "id": "s7OKlYCyT7Bg"
      },
      "id": "s7OKlYCyT7Bg"
    },
    {
      "cell_type": "code",
      "execution_count": null,
      "metadata": {
        "id": "03331f74",
        "cellView": "form"
      },
      "outputs": [],
      "source": [
        "#@title Import Statments\n",
        "\n",
        "import os\n",
        "import csv\n",
        "import time\n",
        "import shelve\n",
        "import numpy as np\n",
        "from inspect import signature\n",
        "import matplotlib.pyplot as plt\n",
        "from matplotlib import cm\n",
        "from matplotlib.colors import ListedColormap, LinearSegmentedColormap\n",
        "%matplotlib inline\n"
      ],
      "id": "03331f74"
    },
    {
      "cell_type": "code",
      "execution_count": null,
      "metadata": {
        "id": "bf8beb7d"
      },
      "outputs": [],
      "source": [
        "# Constants\n",
        "e_0 = 8.8541878128*(10**(0 - 12))\n",
        "k_cons = 1/(4*np.pi*e_0)"
      ],
      "id": "bf8beb7d"
    },
    {
      "cell_type": "code",
      "source": [
        "#@title Paramters\n",
        "\n",
        "#@markdown This parameter is the length of the square parallel plate capacitor\n",
        "side_of_plate = 1 #@param {type:\"number\"}\n",
        "s = side_of_plate\n",
        "\n",
        "#@markdown This parameter allows you to control how far the dieletric is inserted into the parallel plate\n",
        "insert_depth = 0 #@param {type:\"number\"}\n",
        "\n",
        "#@markdown This parameter allows you to control the seperation between the parallel plates\n",
        "plate_seperation = .1 #@param {type:\"number\"}\n",
        "z_depth = plate_seperation\n",
        "\n",
        "#@markdown This parameter allows you to control how thick the dieletric material is\n",
        "thickness_of_dieletric_plate = .1 #@param {type:\"number\"}\n",
        "dielectric_depth = thickness_of_dieletric_plate if z_depth != thickness_of_dieletric_plate else thickness_of_dieletric_plate*.99\n",
        "\n",
        "#@markdown This parameter allows you to control the dieletric constant of the material(CANNOT BE 0)\n",
        "kappa = 1 #@param {type:\"number\"}\n",
        "\n",
        "#@markdown This parameter allows you to control how uniform you want the final plate as a percentage of the initial voltage drop of the plate(higher is less precise)\n",
        "#@markdown WARNING: THIS WILL SIGIFICANTLY INCREASE THE AMOUNT OF COMPUTATION\n",
        "percent_of_std = .005 #@param {type:\"number\", min:0, max:1}"
      ],
      "metadata": {
        "cellView": "form",
        "id": "npYyWr8zOFnE"
      },
      "id": "npYyWr8zOFnE",
      "execution_count": 52,
      "outputs": []
    },
    {
      "cell_type": "code",
      "execution_count": 53,
      "metadata": {
        "id": "1aa4d311",
        "cellView": "form"
      },
      "outputs": [],
      "source": [
        "#@title Various Functions\n",
        "def range_func(lower, upper, step):\n",
        "    \"\"\"\n",
        "    Similar to the range function inbuilt into python except this range function \n",
        "    can deal with integer values\n",
        "    \"\"\"\n",
        "    while lower < upper:\n",
        "        yield lower\n",
        "        lower += step\n",
        "\n",
        "def progress_bar(percent):\n",
        "    \"\"\"\n",
        "    Progress bar using the percent of the progress\n",
        "    \"\"\"\n",
        "    bar_len = 5\n",
        "    n = int(percent*100//bar_len)\n",
        "    p = int(percent*100//1)\n",
        "    print(\"\\r[\"+(\"=\"*n + \" \"*int((100//bar_len)-n))+\"] \"+str(p)+\"%\",end=\" \")\n",
        "\n",
        "def print_matrix(m):\n",
        "    \"\"\"\n",
        "    Print matrix function as equally seperated values by spaces\n",
        "    \"\"\"\n",
        "    if isinstance(m[0], list):\n",
        "        return\n",
        "    for i in range(len(m)):\n",
        "        string = \"\"\n",
        "        for j in range(len(m)):\n",
        "            string += m[i][j]+ \" \"\n",
        "        print(string)\n",
        "    return"
      ],
      "id": "1aa4d311"
    },
    {
      "cell_type": "code",
      "execution_count": 54,
      "metadata": {
        "id": "a95ceb09",
        "cellView": "form"
      },
      "outputs": [],
      "source": [
        "#@title Integral Estimater\n",
        "bounds = {}\n",
        "def estimate_integral_multivar(f, low_bounds, high_bounds, N):\n",
        "    \"\"\"\n",
        "    Use the formula: Integral of function is ~ (b-a)*(1/N)*(sum of applying f to n steps between a and b)\n",
        "    \"\"\"\n",
        "    arguments_f = len(signature(f).parameters)\n",
        "    length = len(low_bounds)\n",
        "    \n",
        "    assert length == len(high_bounds) and length == arguments_f\n",
        "    \n",
        "    if low_bounds==high_bounds:\n",
        "        return 0\n",
        "    \n",
        "    # Check if the bound values have already been calculated and are stored in dictionary\n",
        "    if f\"{low_bounds}-{high_bounds}-{N}\" in bounds.keys():\n",
        "        diff, size_of_steps, steps_lst = bounds[f\"{low_bounds}-{high_bounds}-{N}\"]\n",
        "    else:\n",
        "        diff = [ high_bounds[i] - low_bounds[i] for i in range(length) ]\n",
        "        size_of_steps = [ b_a / N for b_a in diff]\n",
        "        steps_lst = [list(range_func(low_bounds[i]+(size_of_steps[i]/2), high_bounds[i], size_of_steps[i])) for i in range(length)]\n",
        "        bounds[f\"{low_bounds}-{high_bounds}-{N}\"] = diff, size_of_steps, steps_lst \n",
        "    \n",
        "\n",
        "    def integrate_helper(total_args, var=[]):\n",
        "        total = 0\n",
        "        # If we reached the final step of integration, integrate using function f\n",
        "        if len(var) == total_args-1:\n",
        "            for step in steps_lst[len(var)]:\n",
        "                temp_var = [step] + var\n",
        "                total += f(*temp_var)\n",
        "        else:\n",
        "            # If not at final integral in the multiple integral steps, just recurse\n",
        "            # to integrate each integral for each step in the outside integral\n",
        "            for step in steps_lst[len(var)]:\n",
        "                total += integrate_helper(total_args, [step]+var)\n",
        "\n",
        "        integration_total = diff[len(var)]*total/N\n",
        "        return integration_total\n",
        "            \n",
        "    return integrate_helper(arguments_f, [])\n"
      ],
      "id": "a95ceb09"
    },
    {
      "cell_type": "code",
      "execution_count": 55,
      "metadata": {
        "id": "8c10ff34",
        "cellView": "form"
      },
      "outputs": [],
      "source": [
        "#@title Eletric Field Calculator\n",
        "\n",
        "def dE_z(x,y,z, charge):\n",
        "    \"\"\"\n",
        "    Calculate the electric field from a source charge at position (x, y z)\n",
        "    \"\"\"\n",
        "    r = (x**2 + y**2 + z**2)**.5\n",
        "    cos_gamma = z/r\n",
        "    return k_cons*(charge/(r**2))*cos_gamma#*np.cos(gamma)\n",
        "\n",
        "def E_z(x,y,z,surface_charge, eletric_field_res):\n",
        "    \"\"\"\n",
        "    Integrate the electric field to measure total electric field from an s by s plate measured from (x, y z)\n",
        "    \"\"\"\n",
        "    function_xy = lambda x_s,y_s: dE_z(x-x_s, y-y_s, z, surface_charge(x_s, y_s))\n",
        "    return estimate_integral_multivar(function_xy, [0, 0], [s, s], eletric_field_res)"
      ],
      "id": "8c10ff34"
    },
    {
      "cell_type": "code",
      "execution_count": 56,
      "metadata": {
        "id": "5669a1c2",
        "cellView": "form"
      },
      "outputs": [],
      "source": [
        "#@title Voltage Drop Calculator\n",
        "\n",
        "charge_pos_dic = {}\n",
        "def voltage_drop_with_dieletric(charge_distribution, insert_depth, k, z_depth, z_res, dieletric_depth, res=15, eletric_field_res=20):\n",
        "    assert z_depth >= dieletric_depth\n",
        "    assert k >= 1\n",
        "    \n",
        "    data = []\n",
        "    \n",
        "    # x1 repersents where the dieletric is inserted\n",
        "    # x2 repersents all x values where there is no dielectric\n",
        "    # y is the other axis perpendicular to the axis of insertion\n",
        "    pos_of_chargesx1 = list(range_func((s/(2*res)),              insert_depth, s/res))\n",
        "    pos_of_chargesx2 = list(range_func(insert_depth+(s/(2*res)), s,            s/res))\n",
        "    pos_of_chargesy  = list(range_func((s/(2*res)),              s,            s/res))\n",
        "    for x in pos_of_chargesx1:\n",
        "        rows = []\n",
        "        for y in pos_of_chargesy:\n",
        "            # estimate the integral for the top and bottom metal parallel plates\n",
        "            curry_E_z = lambda z: E_z(x,y,z, charge_distribution, eletric_field_res)\n",
        "            in_dieletric_bot  = (1/k)*estimate_integral_multivar(curry_E_z, [0],[dieletric_depth],z_res)\n",
        "            after_dieletric_bot = estimate_integral_multivar(curry_E_z, [dieletric_depth],[z_depth],z_res)\n",
        "            in_dieletric_top  = (1/k)*estimate_integral_multivar(curry_E_z, [z_depth-dieletric_depth],[z_depth],z_res)\n",
        "            before_dieletric_top = estimate_integral_multivar(curry_E_z, [0],[z_depth-dieletric_depth],z_res)\n",
        "            \n",
        "            # Make sure that all the values of the inverses of each voltage drop is non zero\n",
        "            in_dieletric_bot = 0 if in_dieletric_bot==0 else 1/in_dieletric_bot\n",
        "            after_dieletric_bot = 0 if after_dieletric_bot==0 else 1/after_dieletric_bot\n",
        "            in_dieletric_top = 0 if in_dieletric_top==0 else 1/in_dieletric_top\n",
        "            before_dieletric_top = 0 if before_dieletric_top==0 else 1/before_dieletric_top\n",
        "\n",
        "            # Add the voltage drop to the array used to calculate the final charge distribution\n",
        "            average_voltage_drop = (1/(in_dieletric_bot + after_dieletric_bot) + 1/(in_dieletric_top + before_dieletric_top))/2\n",
        "            rows.append(average_voltage_drop)\n",
        "        data.append(rows)\n",
        "\n",
        "    # Integrate for all the positions where there is no dieletric materials\n",
        "    for x in pos_of_chargesx2:\n",
        "        rows = []\n",
        "        for y in pos_of_chargesy:\n",
        "            curry_E_z = lambda z: E_z(x,y,z, charge_distribution, eletric_field_res)\n",
        "            voltage_drop = estimate_integral_multivar(curry_E_z, [0],[z_depth],z_res)\n",
        "            rows.append(voltage_drop)\n",
        "        data.append(rows)\n",
        "    return data\n",
        "    "
      ],
      "id": "5669a1c2"
    },
    {
      "cell_type": "code",
      "execution_count": 57,
      "metadata": {
        "id": "b54df5b6",
        "cellView": "form"
      },
      "outputs": [],
      "source": [
        "#@title Charge Distribution - Object that can be modified and measured\n",
        "class charge_distribution:\n",
        "    def __init__(self, length=s, res=20):\n",
        "        # Position of charges is a list which can be used to find location of each position of charge in space \n",
        "        # Charge distribution is an array repersenting the relative charge on a plate\n",
        "        # Change the renormalization factor every 10 cycles by using the renormalize_counter\n",
        "        midpoint = (s/res)/2\n",
        "        self.pos_of_charges = list(np.round(list(range_func(0+midpoint, s, s/res)), 4))\n",
        "        self.charge_dis = np.ones((res, res))\n",
        "        self.renormalize_counter = 0\n",
        "        \n",
        "    def closest_point(self, x, y):\n",
        "        # Find the location of the closest charge in the plates\n",
        "        len_of_pos = lambda: range(len(self.pos_of_charges))\n",
        "        x_pos = min(len_of_pos(), key=lambda loc: abs(self.pos_of_charges[loc]-x))\n",
        "        y_pos = min(len_of_pos(), key=lambda loc: abs(self.pos_of_charges[loc]-y))\n",
        "        return x_pos, y_pos\n",
        "    \n",
        "    def get_surface_charge(self, x,y):\n",
        "        # Return the charge in the location x, y\n",
        "        x_index, y_index = self.closest_point(x, y)\n",
        "        return self.charge_dis[x_index][y_index]\n",
        "    \n",
        "    def normalized_matrix(self, matrix, alpha):\n",
        "        # Renormalize the charge distribution from -1 to 1 so we can use it for \n",
        "        # learning and reforming the charge distribution \n",
        "        if self.renormalize_counter%10 == 0:\n",
        "            self.max_val = max([max(row) for row in matrix])\n",
        "            self.min_val = min([min(row) for row in matrix])\n",
        "            self.diff = self.max_val - self.min_val\n",
        "        norm_matrix = [[(val-self.min_val)/self.diff for val in row] for row in matrix]\n",
        "        norm_matrix_1_to_neg_1 = [[(2*val - 1)*alpha for val in row] for row in norm_matrix]\n",
        "        return norm_matrix_1_to_neg_1\n",
        "    \n",
        "    def change_surface_charge(self, data, alpha=.0002):\n",
        "        # Change the charge distribution according to the voltage data by the learning rate\n",
        "        assert len(data) == len(self.charge_dis)\n",
        "        assert len(data[0]) == len(self.charge_dis[0])\n",
        "        error = self.calculate_error(data)\n",
        "        data = self.normalized_matrix(data, alpha)\n",
        "        for i in range(len(data)):\n",
        "            for j in range(len(data[0])):\n",
        "                self.charge_dis[i][j] -= data[i][j]\n",
        "        \n",
        "        return error\n",
        "    \n",
        "    def calculate_error(self, data):\n",
        "        # Error is repersented by the standard deviation of the list of charges\n",
        "        long_lst = []\n",
        "        for row in data:\n",
        "            long_lst.extend(row)\n",
        "        return np.std(long_lst)"
      ],
      "id": "b54df5b6"
    },
    {
      "cell_type": "code",
      "execution_count": 58,
      "metadata": {
        "id": "725d3fc9",
        "cellView": "form"
      },
      "outputs": [],
      "source": [
        "#@title Capacitance Calculator\n",
        "def calculate_capacitance(voltage, charge):\n",
        "    Total_Voltage_from_one_plate = sum([sum(row) for row in voltage])/(len(voltage)*len(voltage[0]))\n",
        "    Total_Charge = sum([sum(row) for row in charge])/(len(charge)*len(charge[0]))\n",
        "    #print(Total_Voltage_from_one_plate*2, Total_Charge)\n",
        "    return Total_Charge/(Total_Voltage_from_one_plate*2)"
      ],
      "id": "725d3fc9"
    },
    {
      "cell_type": "code",
      "execution_count": 59,
      "metadata": {
        "id": "a7aaf9e6",
        "cellView": "form"
      },
      "outputs": [],
      "source": [
        "#@title Plot Data using Color Plot\n",
        "def color_plot(data, charge_dis):\n",
        "    cmap= cm.get_cmap('cividis', 256)    \n",
        "    \n",
        "    fig, (ax0, ax1) = plt.subplots(1,2,figsize=(14,5))\n",
        "    \n",
        "    ax0.set_title(\"Voltage Drop Graph\")\n",
        "    psm0 = ax0.pcolormesh(data, cmap=cmap, rasterized=True)\n",
        "    fig.colorbar(psm0, ax=ax0)\n",
        "    ax0.set_aspect('equal')\n",
        "    ax1.set_title(\"Charge Distribution Graph\")\n",
        "    psm1 = ax1.pcolormesh(charge_dis, cmap=cmap, rasterized=True)\n",
        "    fig.colorbar(psm1, ax=ax1)\n",
        "    ax1.set_aspect('equal')\n",
        "\n",
        "    plt.show()"
      ],
      "id": "a7aaf9e6"
    },
    {
      "cell_type": "markdown",
      "source": [
        "Saving the charge distribution and data to a file"
      ],
      "metadata": {
        "id": "AvLkLJwMNzeI"
      },
      "id": "AvLkLJwMNzeI"
    },
    {
      "cell_type": "code",
      "execution_count": 60,
      "metadata": {
        "id": "dbb968a6",
        "cellView": "form"
      },
      "outputs": [],
      "source": [
        "#@title Saving the file using shelve(Not needed to run applet)\n",
        "def save_file(matrix, label):\n",
        "    with shelve.open(\"shelf_files\") as shfile:\n",
        "        shfile[label]= matrix\n",
        "        \n",
        "def open_matrix(label):\n",
        "    with shelve.open(\"shelf_files\") as shfile:\n",
        "        matrix = shfile[label]\n",
        "    return matrix\n",
        "\n",
        "def check_labels():\n",
        "    with shelve.open(\"shelf_files\") as shfile:\n",
        "        keys = list(shfile.keys())\n",
        "    return keys"
      ],
      "id": "dbb968a6"
    },
    {
      "cell_type": "code",
      "execution_count": 61,
      "metadata": {
        "id": "f12926bd",
        "cellView": "form"
      },
      "outputs": [],
      "source": [
        "#@title Save a dictionary that contains useful information(Not needed to run applet)\n",
        "def checkpoint_charges(name, cd, plate_res, eletric_field_res, z_res, data, alpha, kappa):\n",
        "    dic = {\n",
        "        \"charge_dis\":cd,\n",
        "        \"resolution\":(plate_res, eletric_field_res, z_res),\n",
        "        \"voltages\":data,\n",
        "        \"alpha\":alpha,\n",
        "        \"kappa\":kappa,\n",
        "        \"capacitance\":calculate_capacitance(data, cd.charge_dis)\n",
        "    }\n",
        "    save_file(dic, name)\n",
        "\n",
        "def open_checkpoint(name, plot=True):\n",
        "    print(name)\n",
        "    dic = open_matrix(name)\n",
        "    \n",
        "    cd = dic[\"charge_dis\"]\n",
        "    res = dic[\"resolution\"]\n",
        "    data = dic[\"voltages\"]\n",
        "    try:\n",
        "        alpha = dic[\"alpha\"]\n",
        "        kappa = dic[\"kappa\"]\n",
        "        capacitance = dic[\"capacitance\"]\n",
        "        print(f\"Capacitance: {capacitance}\")\n",
        "    except:\n",
        "        alpha = None\n",
        "        kappa = None\n",
        "        capacitance = None\n",
        "    \n",
        "    if plot:\n",
        "        color_plot(data,cd.charge_dis)\n",
        "        \n",
        "        \n",
        "    return cd, res, data, capacitance, alpha, kappa"
      ],
      "id": "f12926bd"
    },
    {
      "cell_type": "markdown",
      "source": [
        "Main Code"
      ],
      "metadata": {
        "id": "TrPIZIRVN_MI"
      },
      "id": "TrPIZIRVN_MI"
    },
    {
      "cell_type": "code",
      "execution_count": 62,
      "metadata": {
        "colab": {
          "base_uri": "https://localhost:8080/",
          "height": 788
        },
        "id": "cb4ba04b",
        "scrolled": false,
        "outputId": "7eb12a9b-b2e7-4793-a53d-57827f1be926"
      },
      "outputs": [
        {
          "output_type": "display_data",
          "data": {
            "text/plain": [
              "<Figure size 1008x360 with 4 Axes>"
            ],
            "image/png": "[encoded data removed]"
          },
          "metadata": {
            "needs_background": "light"
          }
        },
        {
          "output_type": "stream",
          "name": "stdout",
          "text": [
            "The progress bar is a ROUGH estimate assuming a dieletric insertion of 50% of size of plate and percent of std of 0.005\n",
            "[==================  ] 91% Done with training: Reduced STD in Voltage by 0.33% \n",
            "\n",
            "\n",
            "\n",
            "Time Elapsed (sec): 16.214744806289673\n",
            "Approximate Predicted Capacitance: 1.0990846000546396e-11\n"
          ]
        },
        {
          "output_type": "display_data",
          "data": {
            "text/plain": [
              "<Figure size 1008x360 with 4 Axes>"
            ],
            "image/png": "[encoded data removed]"
          },
          "metadata": {
            "needs_background": "light"
          }
        }
      ],
      "source": [
        "#@title MAIN CODE \n",
        "\n",
        "initial_time = time.time()\n",
        "error_lst = []\n",
        "plate_res, eletric_field_res, z_res = 10, 10, 10\n",
        "cd = charge_distribution(s, plate_res)\n",
        "alpha = .011\n",
        "\n",
        "# Get First Plot \n",
        "data = voltage_drop_with_dieletric(cd.get_surface_charge, insert_depth=insert_depth, k=kappa, z_depth=z_depth, z_res=z_res, \n",
        "                                    dieletric_depth=dielectric_depth, res=plate_res, eletric_field_res=eletric_field_res)\n",
        "color_plot(data, cd.charge_dis)\n",
        "\n",
        "print(\"The progress bar is a ROUGH estimate assuming a dieletric insertion of 50% of size of plate and percent of std of 0.005\")\n",
        "percent_error = 1\n",
        "for i in range(100):\n",
        "    data = voltage_drop_with_dieletric(cd.get_surface_charge, insert_depth=insert_depth, k=kappa, z_depth=z_depth, z_res=z_res, \n",
        "                                        dieletric_depth=dielectric_depth, res=plate_res, eletric_field_res=eletric_field_res)\n",
        "    error_lst.append(cd.change_surface_charge(data, alpha))\n",
        "    old_percent_error = percent_error\n",
        "    percent_error = np.round(error_lst[-1]/error_lst[0], 4)\n",
        "    #print(i, percent_error)\n",
        "    #if i%10 == 0 and i > 1:\n",
        "    #   percent_error = np.round(error_lst[-1]/error_lst[0], 4)\n",
        "    #    print(\"Time Elapsed (sec): \"+str(time.time()-initial_time))\n",
        "    #    print(i, percent_error)\n",
        "    #    print(f\"Current Approximate Capacitance: {calculate_capacitance(data, cd.charge_dis)}\")\n",
        "    #    color_plot(data, cd.charge_dis)\n",
        "    progress_bar(i/12)\n",
        "    if percent_error < percent_of_std:\n",
        "        print(f\"Done with training: Reduced STD in Voltage by {percent_error*100}% \")\n",
        "        break\n",
        "    if percent_error >= old_percent_error:\n",
        "        alpha = alpha/2\n",
        "    elif percent_error > old_percent_error*.95:\n",
        "        alpha = alpha*2\n",
        "print(\"\")\n",
        "print(\"\\n\\nTime Elapsed (sec): \"+str(time.time()-initial_time))\n",
        "print(f\"Approximate Predicted Capacitance: {calculate_capacitance(data, cd.charge_dis)}\")\n",
        "color_plot(data, cd.charge_dis)\n",
        "\n",
        "#name = f\"charge_distribution insert: {insert_depth} k: {kappa} di-depth: {dielectric_depth} z depth: {z_depth}\"\n",
        "#checkpoint_charges(name, cd, plate_res, eletric_field_res, z_res, data, alpha, kappa)\n",
        "\n",
        "#print(f\"Current Approximate Capacitance: {calculate_capacitance(data, cd.charge_dis)}\")\n",
        "#color_plot(data, cd.charge_dis)"
      ],
      "id": "cb4ba04b"
    },
    {
      "cell_type": "code",
      "source": [
        ""
      ],
      "metadata": {
        "id": "Z_Ffny0yU4as"
      },
      "id": "Z_Ffny0yU4as",
      "execution_count": null,
      "outputs": []
    }
  ],
  "metadata": {
    "colab": {
      "name": "Estimate Edge Effects.ipynb",
      "provenance": [],
      "include_colab_link": true
    },
    "kernelspec": {
      "display_name": "Python 3 (ipykernel)",
      "language": "python",
      "name": "python3"
    },
    "language_info": {
      "codemirror_mode": {
        "name": "ipython",
        "version": 3
      },
      "file_extension": ".py",
      "mimetype": "text/x-python",
      "name": "python",
      "nbconvert_exporter": "python",
      "pygments_lexer": "ipython3",
      "version": "3.10.4"
    }
  },
  "nbformat": 4,
  "nbformat_minor": 5
}